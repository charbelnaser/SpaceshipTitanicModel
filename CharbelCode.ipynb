{
 "cells": [
  {
   "cell_type": "code",
   "execution_count": 10,
   "metadata": {},
   "outputs": [
    {
     "ename": "ModuleNotFoundError",
     "evalue": "No module named 'sklearn'",
     "output_type": "error",
     "traceback": [
      "\u001b[1;31m---------------------------------------------------------------------------\u001b[0m",
      "\u001b[1;31mModuleNotFoundError\u001b[0m                       Traceback (most recent call last)",
      "Cell \u001b[1;32mIn[10], line 5\u001b[0m\n\u001b[0;32m      3\u001b[0m \u001b[38;5;28;01mimport\u001b[39;00m \u001b[38;5;21;01mmatplotlib\u001b[39;00m\u001b[38;5;21;01m.\u001b[39;00m\u001b[38;5;21;01mpyplot\u001b[39;00m \u001b[38;5;28;01mas\u001b[39;00m \u001b[38;5;21;01mplt\u001b[39;00m \n\u001b[0;32m      4\u001b[0m \u001b[38;5;28;01mimport\u001b[39;00m \u001b[38;5;21;01mseaborn\u001b[39;00m \u001b[38;5;28;01mas\u001b[39;00m \u001b[38;5;21;01msns\u001b[39;00m\n\u001b[1;32m----> 5\u001b[0m \u001b[38;5;28;01mfrom\u001b[39;00m \u001b[38;5;21;01msklearn\u001b[39;00m\u001b[38;5;21;01m.\u001b[39;00m\u001b[38;5;21;01mtree\u001b[39;00m \u001b[38;5;28;01mimport\u001b[39;00m DecisionTreeClassifier\n\u001b[0;32m      6\u001b[0m \u001b[38;5;28;01mfrom\u001b[39;00m \u001b[38;5;21;01msklearn\u001b[39;00m\u001b[38;5;21;01m.\u001b[39;00m\u001b[38;5;21;01mmodel_selection\u001b[39;00m \u001b[38;5;28;01mimport\u001b[39;00m train_test_split\n\u001b[0;32m      7\u001b[0m \u001b[38;5;28;01mfrom\u001b[39;00m \u001b[38;5;21;01msklearn\u001b[39;00m\u001b[38;5;21;01m.\u001b[39;00m\u001b[38;5;21;01mlinear_model\u001b[39;00m \u001b[38;5;28;01mimport\u001b[39;00m LogisticRegression\n",
      "\u001b[1;31mModuleNotFoundError\u001b[0m: No module named 'sklearn'"
     ]
    }
   ],
   "source": [
    "import pandas as pd \n",
    "import numpy as np\n",
    "import matplotlib.pyplot as plt \n",
    "import seaborn as sns\n",
    "from sklearn.tree import DecisionTreeClassifier\n",
    "from sklearn.model_selection import train_test_split\n",
    "from sklearn.linear_model import LogisticRegression\n",
    "from sklearn.metrics import confusion_matrix, plot_confusion_matrix\n",
    "from sklearn.metrics import accuracy_score\n",
    "import pickle as pk\n",
    "import lightgbm as lg\n",
    "from sklearn.pipeline import Pipeline\n",
    "from sklearn.feature_selection import SelectKBest, f_regression\n",
    "from sklearn.metrics import roc_curve, auc, plot_confusion_matrix\n",
    "from fonction import kpi, plot_auc, Mise_enforme, mat_conf2\n",
    "from sklearn.ensemble import RandomForestClassifier\n",
    "from sklearn.model_selection import GridSearchCV, StratifiedKFold, cross_val_score,RepeatedStratifiedKFold\n",
    "from sklearn.impute import KNNImputer\n",
    "from sklearn.preprocessing import MinMaxScaler,StandardScaler\n",
    "from sklearn.neighbors import KNeighborsClassifier\n",
    "from sklearn.preprocessing import LabelEncoder\n",
    "# from lazypredict.Supervised import LazyClassifier\n",
    "import lightgbm as lgb\n",
    "scaler = StandardScaler()\n",
    "imputer = KNNImputer(n_neighbors=100)\n",
    "import shap\n",
    "\n"
   ]
  },
  {
   "cell_type": "code",
   "execution_count": 2,
   "metadata": {},
   "outputs": [],
   "source": [
    "spaceship_path = r'.\\train.csv'\n",
    "spaceship_df = pd.read_csv(filepath_or_buffer = spaceship_path, delimiter = ',')"
   ]
  },
  {
   "cell_type": "code",
   "execution_count": 3,
   "metadata": {},
   "outputs": [],
   "source": [
    "def get_total_expenses(df):\n",
    "    df['TotalExpenditures'] = df['RoomService']+df['FoodCourt']+df['ShoppingMall']+df['Spa']+df['VRDeck']\n",
    "    return df\n"
   ]
  },
  {
   "cell_type": "code",
   "execution_count": 4,
   "metadata": {},
   "outputs": [],
   "source": [
    "def get_age_decade(df):\n",
    "    df['Age'] = df['Age'].replace(0, df['Age'].mean())\n",
    "    spaceship_df['Age'] = imputer.fit_transform(spaceship_df[['Age']])\n",
    "    df['AgeSquared'] = df['Age']**2 \n",
    "    df['AgeByDecade'] = pd.cut(x=df['Age'], bins=[0, 20, 29, 49, 79], labels=['Teens', '20s', '30s-40s', 'Elderly'])               \n",
    "    return df"
   ]
  },
  {
   "cell_type": "code",
   "execution_count": 5,
   "metadata": {},
   "outputs": [],
   "source": [
    "def get_percent_cols(df,amenatiesSpendingCols):\n",
    "    for col in amenatiesSpendingCols:\n",
    "        df[col + 'Percent'] = df[col].div(df['TotalExpenditures']).replace(np.inf, 0).replace(np.nan, 0)\n",
    "        df[col + 'Bool'] = np.where(df[col] > 0, 1, 0)\n",
    "    return df\n"
   ]
  },
  {
   "cell_type": "code",
   "execution_count": 6,
   "metadata": {},
   "outputs": [],
   "source": [
    "def get_cabin_col(df):\n",
    "    df['Cabin_deck'], df['Cabin_num'], df['Cabin_side'] = df['Cabin'].str[0], df['Cabin'].str.split('/', expand=True)[1], df['Cabin'].str[-1]\n",
    "    return df"
   ]
  },
  {
   "cell_type": "code",
   "execution_count": 7,
   "metadata": {},
   "outputs": [],
   "source": [
    "def get_group_id(df):\n",
    "    df['group_id'] = df['PassengerId'].str.split('_', expand=True)[0]\n",
    "    return df"
   ]
  },
  {
   "cell_type": "code",
   "execution_count": 8,
   "metadata": {},
   "outputs": [],
   "source": [
    "def get_acc_persons(df):\n",
    "    df['NumOfAccPersons'] = df['group_id'].map(df['group_id'].value_counts()) \n",
    "    return df\n"
   ]
  },
  {
   "cell_type": "code",
   "execution_count": 9,
   "metadata": {},
   "outputs": [],
   "source": [
    "def is_in_group(df):    \n",
    "    df['isInGroup'] = np.where(df['NumOfAccPersons'] > 1, 1, 0)\n",
    "    return df\n",
    "\n"
   ]
  },
  {
   "cell_type": "code",
   "execution_count": 10,
   "metadata": {},
   "outputs": [],
   "source": [
    "def get_family_name(df):\n",
    "    df['familyName'] = df[~pd.isnull(df['Name'])]['Name'].apply(lambda x: x.split(' ')[-1])\n",
    "    return df\n",
    "\n"
   ]
  },
  {
   "cell_type": "code",
   "execution_count": 11,
   "metadata": {},
   "outputs": [],
   "source": [
    "def get_pass_in_cab(df):\n",
    " \n",
    "    df['NbPassengersInCabin'] = df.groupby('Cabin')['Cabin'].transform('count')\n",
    "    return df"
   ]
  },
  {
   "cell_type": "code",
   "execution_count": 12,
   "metadata": {},
   "outputs": [],
   "source": [
    "def get_fam_mbr_in_cabin(df):\n",
    "    df['NbFamMbmInCabin'] = df.groupby(['Cabin', 'familyName'])['familyName'].transform('count')\n",
    "    return df"
   ]
  },
  {
   "cell_type": "code",
   "execution_count": 13,
   "metadata": {},
   "outputs": [],
   "source": [
    "def get_fam_mbr_in_grp(df):\n",
    "\n",
    "    df['NbFamInSameGroup'] = df.groupby(['group_id', 'familyName'])['familyName'].transform('count')\n",
    "    return df\n"
   ]
  },
  {
   "cell_type": "code",
   "execution_count": 14,
   "metadata": {},
   "outputs": [],
   "source": [
    "def get_fam_exp(df):\n",
    "\n",
    "    df['TotalExpensesofFamily'] = df.groupby('familyName')['TotalExpenditures'].transform('sum')\n",
    "\n",
    "    return df"
   ]
  },
  {
   "cell_type": "code",
   "execution_count": 15,
   "metadata": {},
   "outputs": [],
   "source": [
    "def journey_features(df):\n",
    "    '''\n",
    "    This function build a set of features from based on passenger's journey:\n",
    "        From HomePlanet to Destination\n",
    "    '''\n",
    "    assert set(['HomePlanet', 'Destination']).issubset(set(df.columns))\n",
    "    # Journey tupple creation\n",
    "    df['Journey'] = df[['HomePlanet', 'Destination']].apply(lambda x: (x[0], x[1]), axis=1)\n",
    "    # Dummification of Journey feature\n",
    "    for v in df.Journey.unique():\n",
    "        if v[0]!='' and v[1]!='':\n",
    "            df.loc[df['Journey'] == v, 'Journey_from_{}_to_{}'.format(v[0], v[1])] = 1\n",
    "            df['Journey_from_{}_to_{}'.format(v[0], v[1])].fillna(0, inplace=True)   \n",
    "    if 'Journey_from_nan_to_nan' in df.columns:\n",
    "        df = df.drop('Journey_from_nan_to_nan', axis=1)\n",
    "\n",
    "    return df"
   ]
  },
  {
   "cell_type": "code",
   "execution_count": 16,
   "metadata": {},
   "outputs": [],
   "source": [
    "def get_start_distance_to_sun(df):\n",
    "    # In Light Minute\n",
    "    dict={ 'Europa': 39.5 ,'Earth':8.3,'Mars': 13.8 }\n",
    "    df['Start_Dist_Sun'] = df['HomePlanet'].map(dict)\n",
    "    return df"
   ]
  },
  {
   "cell_type": "code",
   "execution_count": 17,
   "metadata": {},
   "outputs": [],
   "source": [
    "def get_dest_distance_to_sun(df):\n",
    "    # In Light Minutes\n",
    "    dict={ 'TRAPPIST-1e': 20502400 ,'PSO J318.5-22':42048000 ,'55 Cancri e': 21478400  }\n",
    "    df['Dest_Dist_Sun'] = df['Destination'].map(dict)\n",
    "    return df"
   ]
  },
  {
   "cell_type": "code",
   "execution_count": 18,
   "metadata": {},
   "outputs": [],
   "source": [
    "def get_dest_distance_to_earth(df):\n",
    "    # In Light Year\n",
    "    dict={ 'TRAPPIST-1e': 39 ,'PSO J318.5-22':80 ,'55 Cancri e': 40  }\n",
    "    df['Dest_Dist_Earth'] = df['Destination'].map(dict)\n",
    "    return df"
   ]
  },
  {
   "cell_type": "code",
   "execution_count": 19,
   "metadata": {},
   "outputs": [],
   "source": [
    "def get_dest_habitability(df):\n",
    "    # We have give the Habitability range scale over 10\n",
    "    dict={ 'TRAPPIST-1e': 8  ,'PSO J318.5-22': 1 ,'55 Cancri e': 3  }\n",
    "    df['Dest_Habitability'] = df['Destination'].map(dict)\n",
    "    return df"
   ]
  },
  {
   "cell_type": "code",
   "execution_count": 20,
   "metadata": {},
   "outputs": [],
   "source": [
    "def get_homeplnt_habitability(df):\n",
    "    # We have give the Habitability range scale over 10\n",
    "    dict={ 'Europa': 7 ,'Earth':10,'Mars': 4 }\n",
    "    df['Home_Habitability'] = df['HomePlanet'].map(dict)\n",
    "    return df"
   ]
  },
  {
   "cell_type": "code",
   "execution_count": 21,
   "metadata": {},
   "outputs": [],
   "source": [
    "\n",
    "def get_distance_between_planets(df):\n",
    "    # Light Years\n",
    "    terrapist_dict = { 'Europa ': 40  ,'Earth': 39 ,'Mars': 39.5  }\n",
    "    pso_dict = { 'Europa ': 80   ,'Earth': 80  ,'Mars': 80.5  }\n",
    "    cann_dict = { 'Europa ': 41   ,'Earth': 41  ,'Mars': 41.5  }\n",
    "    def calculate_distance(row):\n",
    "        homeplanet = row['HomePlanet']\n",
    "        destination = row['Destination']\n",
    "        if destination == 'TRAPPIST-1e':\n",
    "            distance = terrapist_dict.get(homeplanet, 0)\n",
    "        elif homeplanet == 'PSO J318.5-22':\n",
    "            distance = pso_dict.get(homeplanet, 0)\n",
    "        elif homeplanet == '55 Cancri e':\n",
    "            distance = cann_dict.get(homeplanet, 0)\n",
    "        else:\n",
    "            distance = 0\n",
    "        return distance\n",
    "\n",
    "    # Apply the function to create the new column\n",
    "    df['distance'] = df.apply(calculate_distance, axis=1)\n",
    "    return df"
   ]
  },
  {
   "cell_type": "code",
   "execution_count": 22,
   "metadata": {},
   "outputs": [],
   "source": [
    "def get_planets_temp(df):\n",
    "    # Temperature in degree celcus\n",
    "    dest_dict={ 'TRAPPIST-1e': -27.1 ,'PSO J318.5-22':600 ,'55 Cancri e': 1000}\n",
    "    home_dict={ 'Europa':  -160 ,'Earth':15,'Mars': -63 }\n",
    "    df['Start_Plnt_Tmp']=df['HomePlanet'].map(home_dict)\n",
    "    df['Dest_Plnt_Tmp']=df['Destination'].map(dest_dict)\n",
    "    df['Diff_Tmp']=df['Start_Plnt_Tmp']-df['Dest_Plnt_Tmp']\n",
    "    return df"
   ]
  },
  {
   "cell_type": "code",
   "execution_count": 23,
   "metadata": {},
   "outputs": [],
   "source": [
    "def get_dest_freq(df):\n",
    "    df['Dest_frq'] = df.groupby('Destination')['Destination'].transform('count')\n",
    "    return df"
   ]
  },
  {
   "cell_type": "code",
   "execution_count": 24,
   "metadata": {},
   "outputs": [],
   "source": [
    "def get_homeplnt_freq(df):\n",
    "    df['Homeplnt_frq'] = df.groupby('HomePlanet')['HomePlanet'].transform('count')\n",
    "    return df\n",
    "    "
   ]
  },
  {
   "cell_type": "code",
   "execution_count": 25,
   "metadata": {},
   "outputs": [],
   "source": [
    "def get_dest_gravity(df):\n",
    "    # in m/s^2\n",
    "    dest_dict={'TRAPPIST-1e': 9.4 ,'PSO J318.5-22': 25.2 ,'55 Cancri e': 25.9 }\n",
    "    df['Dest_Gravity'] = df['Destination'].map(dest_dict)\n",
    "    return df"
   ]
  },
  {
   "cell_type": "code",
   "execution_count": 26,
   "metadata": {},
   "outputs": [],
   "source": [
    "def get_homplnt_gravity(df):\n",
    "    # in m/s^2\n",
    "    home_dict={ 'Europa': 1.315  ,'Earth':9.81 ,'Mars': 3.71 }\n",
    "    df['Hmplnt_Gravity'] = df['HomePlanet'].map(home_dict)\n",
    "    return df"
   ]
  },
  {
   "cell_type": "code",
   "execution_count": 27,
   "metadata": {},
   "outputs": [],
   "source": [
    "def get_total_expensises_cabin_num(df):\n",
    "    df['TotalExpensesofCabinNum'] = df.groupby('Cabin_num')['TotalExpenditures'].transform('sum')\n",
    "    return df"
   ]
  },
  {
   "cell_type": "code",
   "execution_count": 28,
   "metadata": {},
   "outputs": [],
   "source": [
    "def get_total_expensises_age_decade(df):\n",
    "    df['TotalExpensesperAgeDecade'] = df.groupby('Age')['TotalExpenditures'].transform('sum')\n",
    "    return df"
   ]
  },
  {
   "cell_type": "code",
   "execution_count": 29,
   "metadata": {},
   "outputs": [],
   "source": [
    "def get_expences_cabin_num(df):\n",
    "    ExpendituresCols = ['RoomService', 'FoodCourt','ShoppingMall', 'Spa', 'VRDeck']\n",
    "    for col in ExpendituresCols:\n",
    "        df[col+'ofCabinNum'] = df.groupby('Cabin_num')[col].transform('sum')\n",
    "    return df"
   ]
  },
  {
   "cell_type": "code",
   "execution_count": 30,
   "metadata": {},
   "outputs": [],
   "source": [
    "def ExtractFeatures(df):\n",
    "    '''\n",
    "        Extract new feature from already existing features in the DataFrame\n",
    "        The new extracted features are the following: - TotalExpenditures\n",
    "                                                      - AgeByDecade\n",
    "                                                      - RoomServicePercent\n",
    "                                                      - FoodCourtPercent\n",
    "                                                      - ShoppingMallPercent\n",
    "                                                      - SpaPercent\n",
    "                                                      - VRDeckPercent\n",
    "                                                      - RoomServiceBool \n",
    "                                                      - FoodCourtBool\n",
    "                                                      - ShoppingMallBool\n",
    "                                                      - SpaBool\n",
    "                                                      - VRDeckBool\n",
    "                                                      - Cabin_deck\n",
    "                                                      - Cabin_num\n",
    "                                                      - Cabin_side\n",
    "                                                      - group_id\n",
    "                                                      - NumOfAccPersons\n",
    "                                                      - isInGroup\n",
    "                                                      - familyName\n",
    "                                                      - NumOfFamilyMembers\n",
    "    '''\n",
    "    \n",
    "    try:\n",
    "        expectedFeatures = ['group_id','familyName','PassengerId', 'RoomService', 'FoodCourt', 'ShoppingMall', 'Spa', 'VRDeck', 'Age', 'Cabin', 'Name']\n",
    "        amenatiesSpendingCols = ['RoomService', 'FoodCourt', 'VRDeck', 'ShoppingMall', 'Spa']\n",
    "        assert all(elem in df.columns for elem in expectedFeatures) \n",
    "        \n",
    "        \n",
    "        df = get_total_expenses(df)\n",
    "        # Binning Age by 4 categories : Teens (less thanh 20), 20s, 30s-40s and 50+\n",
    "        df = get_age_decade(df)\n",
    "\n",
    "        # Creating columns of Spending Percentages of Total Spendings\n",
    "        # Transforming Amenaties Expenses from Numerical to Categorical Binary Variables (1, 0) --> 1 if spending else 0\n",
    "        df = get_percent_cols(df, amenatiesSpendingCols)\n",
    "        # Splitting Cabin into 3 features : Cabin_deck, Cabin_num and Cabin_side\n",
    "        \n",
    "        df = get_cabin_col(df)\n",
    "        # Splitting PassengerId into 2 Features : isInGroup (whether the passenger is alone or not) and NumOfAccPersons(Number of people with the passenger)\n",
    "        \n",
    "        # df = get_group_id(df)\n",
    "\n",
    "        df = get_acc_persons(df)\n",
    "\n",
    "        df = is_in_group(df)\n",
    "        # Getting the Family name and \n",
    "        # df = get_family_name(df)\n",
    "        \n",
    "        # Nb Passengers In Same Cabin\n",
    "        df = get_pass_in_cab(df)\n",
    "\n",
    "        # Nb of family members in same group\n",
    "        # df = get_fam_mbr_in_cabin(df)\n",
    "\n",
    "        # Nb of family members in same group\n",
    "        df = get_fam_mbr_in_grp(df)\n",
    "  \n",
    "        # Family Expenses\n",
    "        df = get_fam_exp(df)\n",
    "\n",
    "        # Journey Features\n",
    "        df = journey_features(df)\n",
    "\n",
    "        # Distance From Homeplanet  to the SUN\n",
    "        df = get_start_distance_to_sun(df)\n",
    "\n",
    "        # Distance From Destination Planet to the SUN\n",
    "        df = get_dest_distance_to_sun(df)\n",
    "\n",
    "        # Distance From Destination Planet to Earth\n",
    "        df = get_dest_distance_to_earth(df)\n",
    "\n",
    "        # Planets Temperature\n",
    "        df = get_planets_temp(df)\n",
    "\n",
    "        # Planets Destination Habitability\n",
    "        df = get_dest_habitability(df)\n",
    "\n",
    "        # Home Planets Habitability\n",
    "        df = get_homeplnt_habitability(df)\n",
    "\n",
    "        # Destination Frequency\n",
    "        df = get_dest_freq(df)\n",
    "\n",
    "        # HomePlanet Frequency\n",
    "        df = get_homeplnt_freq(df)\n",
    "\n",
    "        # Distance between Home and Destination Planet\n",
    "        df = get_distance_between_planets(df)\n",
    "\n",
    "        # Destinavtion Gravity Value\n",
    "        df = get_dest_gravity(df)\n",
    "\n",
    "        # Homeplanet Gravity\n",
    "        df = get_homplnt_gravity(df)\n",
    "\n",
    "        # Total Expenses Group By Cabin Number\n",
    "        df = get_total_expensises_cabin_num(df)\n",
    "        \n",
    "        df = get_total_expensises_age_decade(df)\n",
    "\n",
    "        df =  get_expences_cabin_num(df)\n",
    "        return df \n",
    "    except AssertionError:\n",
    "        return df "
   ]
  },
  {
   "cell_type": "code",
   "execution_count": 31,
   "metadata": {},
   "outputs": [],
   "source": [
    "def encode_fam_name(df):\n",
    "    # # calculate the frequency of each category\n",
    "    family_freq = df['familyName'].value_counts(normalize=True)\n",
    "    # # encode the categories with their frequency\n",
    "    df['familyName'] = df['familyName'].map(family_freq)\n",
    "    \n",
    "    return df"
   ]
  },
  {
   "cell_type": "code",
   "execution_count": 32,
   "metadata": {},
   "outputs": [],
   "source": [
    "def dumify_cat_col(df, categoricalCols):\n",
    "    for col in categoricalCols:\n",
    "        df = pd.get_dummies(df, columns=[col], prefix=col)\n",
    "    return df"
   ]
  },
  {
   "cell_type": "code",
   "execution_count": 33,
   "metadata": {},
   "outputs": [],
   "source": [
    "def scale_data(X_train,X_test):\n",
    "   \n",
    "    X_train_scaled = scaler.fit_transform(X_train)\n",
    "    X_train_scaled_df = pd.DataFrame(X_train_scaled, columns=X_train.columns)\n",
    "\n",
    "    X_test_scaled = scaler.fit_transform(X_test)\n",
    "    X_test_scaled_df = pd.DataFrame(X_test_scaled, columns=X_test.columns)\n",
    "\n",
    "\n",
    "    return X_train_scaled_df,X_test_scaled_df"
   ]
  },
  {
   "cell_type": "code",
   "execution_count": 34,
   "metadata": {},
   "outputs": [],
   "source": [
    "def get_scaled_dataframe(df):\n",
    "    return pd.DataFrame(scaler.fit_transform(df), columns=df.columns)"
   ]
  },
  {
   "cell_type": "code",
   "execution_count": 35,
   "metadata": {},
   "outputs": [],
   "source": [
    "def export_to_excel(df):\n",
    "    df.to_csv('data.csv')"
   ]
  },
  {
   "cell_type": "code",
   "execution_count": 36,
   "metadata": {},
   "outputs": [],
   "source": [
    "def clean_spending_col(df,SpendingCols):\n",
    "    df.replace({False: 0, True:1}, inplace=True)\n",
    "    # Fill Missing values of CryoSleep \n",
    "    #if there at least one value of Expenditures Cols not equal 0 else 1\n",
    "    for index, row in df[df['CryoSleep'].isnull()].iterrows():\n",
    "        if row['RoomService'] !=0 or row['FoodCourt'] !=0 or row['ShoppingMall']!=0 or row['Spa']!=0 or  row['VRDeck']!=0:\n",
    "            row['CryoSleep'] = 0\n",
    "        else:\n",
    "            1\n",
    "    for col in SpendingCols:\n",
    "        df.loc[df['CryoSleep'] == True, col] = df.loc[df['CryoSleep'] == True, col].fillna(0)\n",
    "    df[SpendingCols] = imputer.fit_transform(df[SpendingCols])\n",
    "\n",
    "    return df\n"
   ]
  },
  {
   "cell_type": "code",
   "execution_count": 37,
   "metadata": {},
   "outputs": [],
   "source": [
    "def clean_age_col(df):\n",
    "    # Replace Data with Age 0 by the mean of Age column Because its not logique People with Age 0 to Go to Moon \n",
    "    df['Age'] = df['Age'].replace(0, df['Age'].mean())\n",
    "    # Fill Empty Values of Age\n",
    "    df['Age'] = imputer.fit_transform(df[['Age']])\n",
    "    return df"
   ]
  },
  {
   "cell_type": "code",
   "execution_count": 38,
   "metadata": {},
   "outputs": [],
   "source": [
    "def clean_fam_name(df):\n",
    "    df = get_group_id(df)\n",
    "    df['familyName'] = df[~pd.isnull(df['Name'])]['Name'].apply(lambda x: x.split(' ')[-1])\n",
    "    # Group the data by Group ID and fill the missing values with the family name of the same group\n",
    "    df['familyName'] = df.groupby('group_id')['familyName'].fillna(method='ffill')\n",
    "    return df\n"
   ]
  },
  {
   "cell_type": "code",
   "execution_count": 39,
   "metadata": {},
   "outputs": [],
   "source": [
    "def clean_homeplanet(df):\n",
    "    df['HomePlanet'].fillna(df.groupby('familyName')['HomePlanet'].ffill(), inplace=True)\n",
    "    return df"
   ]
  },
  {
   "cell_type": "code",
   "execution_count": 40,
   "metadata": {},
   "outputs": [],
   "source": [
    "def clean_VIP(df):\n",
    "    # Fill missing values in VIP column with False when Cryosleep is True\n",
    "    df.loc[df['CryoSleep'] == True, 'VIP'] = df['VIP'].fillna(False)\n",
    "    # Fill missing values in VIP column with False when Cryosleep is False and Spending Columns are null\n",
    "    df.loc[(df[\"CryoSleep\"] == False) & (df[\"RoomService\"] == 0) & (df[\"FoodCourt\"] == 0) & (df[\"ShoppingMall\"] == 0) & (df[\"Spa\"] == 0) & (df[\"VRDeck\"] == 0),'VIP']=df['VIP'].fillna(False)\n",
    "    return df"
   ]
  },
  {
   "cell_type": "code",
   "execution_count": 41,
   "metadata": {},
   "outputs": [],
   "source": [
    "def clean_deck_num(df):\n",
    "    null_counts = spaceship_df.isnull().sum()\n",
    "    null_counts_df = pd.DataFrame({'Column Name': null_counts.index, 'Null Count': null_counts.values})\n",
    "    display(null_counts_df)\n",
    "    df['Cabin'].fillna(df.groupby('group_id')['Cabin'].ffill(), inplace=True)\n",
    "    null_counts = spaceship_df.isnull().sum()\n",
    "    null_counts_df = pd.DataFrame({'Column Name': null_counts.index, 'Null Count': null_counts.values})\n",
    "    display(null_counts_df)\n",
    "    return df\n"
   ]
  },
  {
   "cell_type": "code",
   "execution_count": 42,
   "metadata": {},
   "outputs": [],
   "source": [
    "def clean_cabin_num(df):\n",
    "\n",
    "    df = get_cabin_col(df)\n",
    "    # Group data by groupid, destination, homeplanet, and familyname, and forward fill the empty values in the Cabin_deck column\n",
    "    df['Cabin_deck'].fillna(df.groupby(['group_id', 'familyName','HomePlanet','Destination'])['Cabin_deck'].ffill(), inplace=True)\n",
    "    return df"
   ]
  },
  {
   "cell_type": "code",
   "execution_count": 43,
   "metadata": {},
   "outputs": [],
   "source": [
    "def CleanData(df):\n",
    "    # Fill Empty Value of CryoSleep\n",
    "    df.replace({False: 0, True:1}, inplace=True)\n",
    "    # Replace null values of Amenaty Expenses where CryoSleep = True with 0\n",
    "    SpendingCols = ['RoomService', 'FoodCourt', 'VRDeck', 'ShoppingMall', 'Spa']\n",
    "    # clean spending col\n",
    "    df = clean_spending_col(df,SpendingCols)\n",
    "    # clean Age col\n",
    "    df = clean_age_col(df)\n",
    "    # clean family name\n",
    "    df = clean_fam_name(df)\n",
    "    # df = clean_cabin_num(df)\n",
    "    df = clean_homeplanet(df)\n",
    "    df = clean_cabin_num(df)\n",
    "    df = clean_VIP(df)\n",
    "    # df = clean_deck_num(df)\n",
    "    # df.to_csv('clean_test.csv',index = False)\n",
    "    return df"
   ]
  },
  {
   "cell_type": "code",
   "execution_count": 44,
   "metadata": {},
   "outputs": [],
   "source": [
    "# Replacing NaN values where CryoSleep = True with 0.0\n",
    "def PrepareData(df, columnsToDrop,data_type, test_size=0.2, random_state=42):\n",
    "    '''\n",
    "       - Replace Null Values (using KNNImputer)\n",
    "       - Dummify Categorical Variables\n",
    "       - Drop Unused Columns\n",
    "       - Split Data Between Train and Test\n",
    "       - Scale Numerical Variables\n",
    "       \n",
    "           Input:   df --> Pandas DataFrame\n",
    "           Output : X  --> numpy Matrix containing independent variables\n",
    "                    y  --> numpy array containing the dependent variable\n",
    "    '''\n",
    "   \n",
    "    \n",
    "    # Encode Family Name column\n",
    "    df = encode_fam_name(df)\n",
    "    # Dummyfying Categorical columns \n",
    "    categoricalCols = ['HomePlanet', 'Destination', 'Cabin_deck', 'Cabin_side','AgeByDecade']\n",
    "    # categoricalCols = [ 'Cabin_deck', 'Cabin_side','AgeByDecade']\n",
    "\n",
    "    df = dumify_cat_col(df,categoricalCols)\n",
    "    \n",
    "    df.replace({False: 0, True:1}, inplace=True)\n",
    "    # Dropping Unused Columns\n",
    "    df.drop(columns=columnsToDrop, inplace=True)\n",
    "    \n",
    "    #Imputing Rest of Missing Variables \n",
    "    df = pd.DataFrame(imputer.fit_transform(df), columns=df.columns)\n",
    "    \n",
    "    if data_type == 'train':\n",
    "        X = df.drop(columns=['Transported'])   \n",
    "        y = df['Transported']\n",
    "\n",
    "        # Get Scaled Train and Test Data\n",
    "        X_train, X_test, y_train, y_test = train_test_split(X, y, test_size=test_size, random_state=random_state)\n",
    "\n",
    "        X_train_scaled,X_test_scaled= scale_data(X_train,X_test)\n",
    "        return X_train_scaled, X_test_scaled, y_train, y_test\n",
    "    \n",
    "    elif data_type == 'test':    \n",
    "        return get_scaled_dataframe(df)\n",
    "   "
   ]
  },
  {
   "cell_type": "code",
   "execution_count": 45,
   "metadata": {},
   "outputs": [],
   "source": [
    "# def logistic_regression_model(X_train, X_test, y_train, y_test, C=1.0, max_iter=5000, random_state=42):\n",
    "#     cv5 = StratifiedKFold(n_splits=5,shuffle=True,random_state=42)\n",
    "#     # Train the Model\n",
    "#     params = {'C': [0.001, 0.01,0.03,0.04, 0.1, 1, 10, 100],\n",
    "#               }\n",
    " \n",
    "#     clf = LogisticRegression(C=0.04, random_state=random_state, max_iter=max_iter,solver='sag',penalty='l2')\n",
    "\n",
    "#     clf.fit(X_train, y_train)\n",
    "\n",
    "#     # cross validation\n",
    "#     score_cv = cross_val_score(estimator=clf,X=X_train,y=y_train,cv=10)\n",
    "\n",
    "#     print(\"Logistic Regression cross validate train : accuracy {} +/- {}\".format(np.round(score_cv.mean(),2),\n",
    "#                                                   np.round(score_cv.std(),2)))\n",
    "\n",
    "#     score_cv = cross_val_score(estimator=clf,X=X_test,y=y_test,cv=10)\n",
    "    \n",
    "#     print(\"Logistic Regression cross validate Test : accuracy {} +/- {}\".format(np.round(score_cv.mean(),2),\n",
    "#                                                   np.round(score_cv.std(),2)))\n",
    "#     print('Accuracy on training set: ', clf.score(X_train, y_train))\n",
    "#     print('Accuracy on test set: ', clf.score(X_test, y_test))\n",
    "#     print('Logistic Regression Accuracy: ', clf.score(X_test, y_test))\n",
    "#     # Plot Confusion Matrix\n",
    "#     figs, axs = plt.subplots(figsize=(14, 6), nrows=1, ncols=2)\n",
    "#     figs.tight_layout(pad=10.0)\n",
    "#     plot_confusion_matrix(clf, X_train, y_train, ax=axs[0])\n",
    "#     axs[0].set_title('Train Data')\n",
    "#     plot_confusion_matrix(clf, X_test, y_test, ax=axs[1])\n",
    "#     axs[1].set_title('Test Data')\n",
    "    \n",
    "#     return clf"
   ]
  },
  {
   "cell_type": "code",
   "execution_count": 46,
   "metadata": {},
   "outputs": [],
   "source": [
    "ExpendituresCols = ['RoomService', 'FoodCourt','ShoppingMall', 'Spa', 'VRDeck']\n",
    "ExpendituresAgesCols =['AgeByDecade_Teens', 'AgeByDecade_20s','AgeByDecade_30s-40s', 'AgeByDecade_Elderly']\n",
    "ExpendituresPercentCols = ['RoomServicePercent', 'FoodCourtPercent', 'ShoppingMallPercent', 'SpaPercent', 'VRDeckPercent']\n",
    "ExpendituresBoolCols =  ['RoomServiceBool', 'FoodCourtBool', 'ShoppingMallBool', 'SpaBool', 'VRDeckBool']\n",
    "ExpendituesTemperatureCols = ['Dest_Habitability', 'Home_Habitability']\n",
    "ExpendituesDistanceCols = ['Start_Dist_Sun', 'Dest_Dist_Sun','Dest_Dist_Earth']\n",
    "ExpendituesFrequecnyCols = ['Dest_frq', 'Homeplnt_frq'] \n",
    "ExpendituesGravityCols = ['Dest_Gravity', 'Hmplnt_Gravity'] \n",
    "ExpendituesHabitabilityCols = ['Dest_Habitability', 'Home_Habitability'] \n",
    "ExpendituesTemperatureCols = ['Start_Plnt_Tmp', 'Dest_Plnt_Tmp'] \n",
    "\n",
    "spaceship_df = CleanData(spaceship_df)\n",
    "spaceshipExtraFeatures_df = ExtractFeatures(spaceship_df)\n",
    "# clfs = {}"
   ]
  },
  {
   "cell_type": "code",
   "execution_count": 47,
   "metadata": {},
   "outputs": [
    {
     "name": "stdout",
     "output_type": "stream",
     "text": [
      "lgbm Accuracy: 0.7987349051178838\n"
     ]
    },
    {
     "name": "stderr",
     "output_type": "stream",
     "text": [
      "LightGBM binary classifier with TreeExplainer shap values output has changed to a list of ndarray\n"
     ]
    },
    {
     "data": {
      "image/png": "[encoded data removed]",
      "text/plain": [
       "<Figure size 800x950 with 1 Axes>"
      ]
     },
     "metadata": {},
     "output_type": "display_data"
    }
   ],
   "source": [
    "columnsToDrop = ['PassengerId','Cabin', 'group_id','Name', 'familyName','Journey',*ExpendituesTemperatureCols]\n",
    "X_train, X_test, y_train, y_test = PrepareData(spaceshipExtraFeatures_df,columnsToDrop,'train')\n",
    "lgbm = lgb.LGBMClassifier()\n",
    "lgbm.fit(X_train, y_train)\n",
    "y_pred = lgbm.predict(X_test)\n",
    "accuracy = accuracy_score(y_test, y_pred)\n",
    "print(\"lgbm Accuracy:\", accuracy)\n",
    "explainer = shap.TreeExplainer(lgbm)\n",
    "shap_values = explainer.shap_values(X_train)\n",
    "shap.summary_plot(shap_values, X_train, plot_type='bar')"
   ]
  },
  {
   "cell_type": "code",
   "execution_count": 48,
   "metadata": {},
   "outputs": [],
   "source": [
    "test_path = r'.\\test.csv'\n",
    "test_df = pd.read_csv(filepath_or_buffer = test_path, delimiter = ',')\n",
    "test_df = CleanData(test_df)\n",
    "test_dfExtraFeatures_df = ExtractFeatures(test_df)\n",
    "X_test= PrepareData(test_dfExtraFeatures_df, columnsToDrop,'test')\n",
    "missing_columns = set(X_train.columns) - set(X_test.columns)\n",
    "y_pred =lgbm.predict(X_test)\n",
    "# y_pred =clf_V1.predict(X_test)\n",
    "data = {'PassengerId': test_dfExtraFeatures_df['PassengerId'],\n",
    "        'Transported': y_pred\n",
    "       }\n",
    "df2 = pd.DataFrame(data)\n",
    "df2.replace({0: False, 1:True}, inplace=True)\n",
    "df2.to_csv('clean_cabintessv1.csv',index = False)"
   ]
  },
  {
   "cell_type": "code",
   "execution_count": null,
   "metadata": {},
   "outputs": [],
   "source": [
    "# columnsToDrop = ['PassengerId','Cabin', 'group_id','Name', 'familyName','Journey',*ExpendituesTemperatureCols]\n",
    "# X_train, X_test, y_train, y_test = PrepareData(spaceshipExtraFeatures_df,columnsToDrop,'train')\n",
    "# lgbm = lgb.LGBMClassifier()\n",
    "# lgbm.fit(X_train, y_train)\n",
    "# y_pred = lgbm.predict(X_test)\n",
    "# accuracy = accuracy_score(y_test, y_pred)\n",
    "# print(\"lgbm Accuracy Without Temperature Cols:\", accuracy)"
   ]
  },
  {
   "cell_type": "code",
   "execution_count": null,
   "metadata": {},
   "outputs": [],
   "source": [
    "# columnsToDrop = ['PassengerId','Cabin', 'group_id','Name', 'familyName','Journey',*ExpendituesDistanceCols]\n",
    "# X_train, X_test, y_train, y_test = PrepareData(spaceshipExtraFeatures_df,columnsToDrop,'train')\n",
    "# lgbm = lgb.LGBMClassifier()\n",
    "# lgbm.fit(X_train, y_train)\n",
    "# y_pred = lgbm.predict(X_test)\n",
    "# accuracy = accuracy_score(y_test, y_pred)\n",
    "# print(\"lgbm Accuracy Without Distance Cols:\", accuracy)"
   ]
  },
  {
   "cell_type": "code",
   "execution_count": null,
   "metadata": {},
   "outputs": [],
   "source": [
    "# columnsToDrop = ['PassengerId','Cabin', 'group_id','Name', 'familyName','Journey',*ExpendituesFrequecnyCols]\n",
    "# X_train, X_test, y_train, y_test = PrepareData(spaceshipExtraFeatures_df,columnsToDrop,'train')\n",
    "# lgbm = lgb.LGBMClassifier()\n",
    "# lgbm.fit(X_train, y_train)\n",
    "# y_pred = lgbm.predict(X_test)\n",
    "# accuracy = accuracy_score(y_test, y_pred)\n",
    "# print(\"lgbm Accuracy Without Planets Frequency Cols:\", accuracy)"
   ]
  },
  {
   "cell_type": "code",
   "execution_count": null,
   "metadata": {},
   "outputs": [],
   "source": [
    "# columnsToDrop = ['PassengerId','Cabin', 'group_id','Name', 'familyName','Journey',*ExpendituesGravityCols]\n",
    "# X_train, X_test, y_train, y_test = PrepareData(spaceshipExtraFeatures_df,columnsToDrop,'train')\n",
    "# lgbm = lgb.LGBMClassifier()\n",
    "# lgbm.fit(X_train, y_train)\n",
    "# y_pred = lgbm.predict(X_test)\n",
    "# accuracy = accuracy_score(y_test, y_pred)\n",
    "# print(\"lgbm Accuracy Without Plants Gravity Cols:\", accuracy)"
   ]
  },
  {
   "cell_type": "code",
   "execution_count": null,
   "metadata": {},
   "outputs": [],
   "source": [
    "\n",
    "# columnsToDrop = ['PassengerId','Cabin', 'group_id','Name', 'familyName','Journey',*ExpendituesHabitabilityCols]\n",
    "# X_train, X_test, y_train, y_test = PrepareData(spaceshipExtraFeatures_df,columnsToDrop,'train')\n",
    "# lgbm = lgb.LGBMClassifier()\n",
    "# lgbm.fit(X_train, y_train)\n",
    "# y_pred = lgbm.predict(X_test)\n",
    "# accuracy = accuracy_score(y_test, y_pred)\n",
    "# print(\"lgbm Accuracy Without Plants Habitability Cols:\", accuracy)"
   ]
  },
  {
   "cell_type": "code",
   "execution_count": null,
   "metadata": {},
   "outputs": [],
   "source": [
    "# columnsToDrop = ['PassengerId','Cabin', 'group_id','Name', 'familyName','Journey',*ExpendituresBoolCols]\n",
    "# X_train, X_test, y_train, y_test = PrepareData(spaceshipExtraFeatures_df,columnsToDrop,'train')\n",
    "# lgbm = lgb.LGBMClassifier()\n",
    "# lgbm.fit(X_train, y_train)\n",
    "# y_pred = lgbm.predict(X_test)\n",
    "# accuracy = accuracy_score(y_test, y_pred)\n",
    "# print(\"lgbm Accuracy Without Bolean Cols:\", accuracy)"
   ]
  },
  {
   "cell_type": "code",
   "execution_count": null,
   "metadata": {},
   "outputs": [],
   "source": [
    "\n",
    "# columnsToDrop = ['PassengerId','Cabin', 'group_id','Name', 'familyName','Journey',*ExpendituresAgesCols]\n",
    "# X_train, X_test, y_train, y_test = PrepareData(spaceshipExtraFeatures_df,columnsToDrop,'train')\n",
    "# lgbm = lgb.LGBMClassifier()\n",
    "# lgbm.fit(X_train, y_train)\n",
    "# y_pred = lgbm.predict(X_test)\n",
    "# accuracy = accuracy_score(y_test, y_pred)\n",
    "# print(\"lgbm Accuracy Without Age Cols:\", accuracy)"
   ]
  },
  {
   "cell_type": "code",
   "execution_count": null,
   "metadata": {},
   "outputs": [],
   "source": [
    "# columnsToDrop = ['PassengerId','Cabin', 'group_id','Name', 'familyName','Journey',*ExpendituresCols]\n",
    "# X_train, X_test, y_train, y_test = PrepareData(spaceshipExtraFeatures_df,columnsToDrop,'train')\n",
    "# lgbm = lgb.LGBMClassifier()\n",
    "# lgbm.fit(X_train, y_train)\n",
    "# y_pred = lgbm.predict(X_test)\n",
    "# accuracy = accuracy_score(y_test, y_pred)\n",
    "# print(\"lgbm Accuracy Without Spending Cols:\", accuracy)"
   ]
  },
  {
   "cell_type": "code",
   "execution_count": null,
   "metadata": {},
   "outputs": [],
   "source": [
    "# test_path = r'.\\test.csv'\n",
    "# test_df = pd.read_csv(filepath_or_buffer = test_path, delimiter = ',')\n",
    "# test_dfExtraFeatures_df = ExtractFeatures(test_df)\n",
    "# X_test= PrepareData(test_dfExtraFeatures_df, columnsToDrop,'test')\n",
    "# y_pred =lgbm.predict(X_test)\n",
    "# # y_pred =clf_V1.predict(X_test)\n",
    "# data = {'PassengerId': test_dfExtraFeatures_df['PassengerId'],\n",
    "#         'Transported': y_pred\n",
    "#        }\n",
    "# df2 = pd.DataFrame(data)\n",
    "# df2.replace({0: False, 1:True}, inplace=True)\n",
    "# df2.to_csv('predictlgbmv2.csv',index = False)\n"
   ]
  }
 ],
 "metadata": {
  "kernelspec": {
   "display_name": "base",
   "language": "python",
   "name": "python3"
  },
  "language_info": {
   "codemirror_mode": {
    "name": "ipython",
    "version": 3
   },
   "file_extension": ".py",
   "mimetype": "text/x-python",
   "name": "python",
   "nbconvert_exporter": "python",
   "pygments_lexer": "ipython3",
   "version": "3.12.2"
  },
  "orig_nbformat": 4,
  "vscode": {
   "interpreter": {
    "hash": "b4eeaa99b33fa023aac5c13169d466d331a0c535eb523a2bb1ef81133e9ed367"
   }
  }
 },
 "nbformat": 4,
 "nbformat_minor": 2
}
